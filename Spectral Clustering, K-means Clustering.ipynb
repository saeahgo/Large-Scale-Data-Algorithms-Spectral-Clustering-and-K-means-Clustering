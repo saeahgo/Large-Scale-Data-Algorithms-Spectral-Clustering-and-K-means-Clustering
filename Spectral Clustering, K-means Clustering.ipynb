{
  "nbformat": 4,
  "nbformat_minor": 0,
  "metadata": {
    "colab": {
      "name": "Spectral Clustering, K-means Clustering",
      "provenance": [],
      "collapsed_sections": []
    },
    "kernelspec": {
      "name": "python3",
      "display_name": "Python 3"
    },
    "language_info": {
      "name": "python"
    }
  },
  "cells": [
    {
      "cell_type": "code",
      "source": [
        "# libraries I used for this assignment\n",
        "import pandas as pd \n",
        "from pandas import read_csv\n",
        "from scipy.sparse.coo import coo_matrix\n",
        "import numpy as np \n",
        "from numpy.linalg import eig\n",
        "from scipy.sparse.linalg import eigs\n",
        "from sklearn.cluster import KMeans\n",
        "import matplotlib.pyplot as plt\n",
        "import seaborn as sns\n",
        "%matplotlib inline\n",
        "import scipy.sparse\n"
      ],
      "metadata": {
        "id": "pSXo72jbD-IA"
      },
      "execution_count": null,
      "outputs": []
    },
    {
      "cell_type": "code",
      "source": [
        "# read the data file\n",
        "def read_data(filepath):\n",
        "    data = pd.read_csv(filepath,\n",
        "                         sep=\" \",\n",
        "                         header=None)\n",
        "    data.columns = [\"col\", \"row\", \"data\"]\n",
        "    vals = data[\"data\"]\n",
        "    cols = data[\"col\"]\n",
        "    rows = data[\"row\"]\n",
        "\n",
        "    if min(cols) == 1 and min(rows) == 1:\n",
        "        cols = [i - 1 for i in cols]\n",
        "        rows = [i - 1 for i in rows]\n",
        "\n",
        "    return coo_matrix((vals, (cols, rows))).tocsr()\n",
        "  "
      ],
      "metadata": {
        "id": "olTtWLBSvgEa"
      },
      "execution_count": null,
      "outputs": []
    },
    {
      "cell_type": "markdown",
      "source": [
        "# Spectral Clustering "
      ],
      "metadata": {
        "id": "cnKWnC79ANTK"
      }
    },
    {
      "cell_type": "code",
      "source": [
        "from scipy import sparse\n",
        "\n",
        "# first, we need to make adjacence matrix to get laplacian matrix\n",
        "def make_adj_mtx(A):   \n",
        "    n = A.shape[0]\n",
        "    adj = np.zeros((n,n)) # initialize to zero\n",
        "    for i in range (n):\n",
        "      for j in range (n):\n",
        "        if A[i, j] != 0: # if data exists\n",
        "          adj[i, j] = 1\n",
        "    adj = sparse.csr_matrix(adj)  \n",
        "    return adj\n",
        "\n",
        "# we also need to make diagonal matrix to get laplacian matrix\n",
        "def make_diag_mtx(A):\n",
        "    n = A.shape[0]\n",
        "    D = np.zeros((n,n)) # initialize\n",
        "    for i in range (n):\n",
        "      rowsum = 0\n",
        "      for j in range (n):\n",
        "         rowsum += abs(A[i, j])\n",
        "      D[i, i] = rowsum\n",
        "    D = sparse.csr_matrix(D)\n",
        "    return D\n",
        "\n",
        "# get laplacian matrix (L = D - A)\n",
        "def make_Laplacian(diag,adj):\n",
        "    L = diag - adj\n",
        "    return L"
      ],
      "metadata": {
        "id": "1CaDrkNA2X2q"
      },
      "execution_count": null,
      "outputs": []
    },
    {
      "cell_type": "code",
      "source": [
        "def make_edge_vertex_mtx(B): \n",
        "    row  = []\n",
        "    col  = []\n",
        "    data = []\n",
        "    l = 0\n",
        "    for i in range(0, B.indices[-1] + 1):\n",
        "        for k in range(B.indptr[i], B.indptr[i + 1]):\n",
        "            j = B.indices[k]\n",
        "            if i < j:\n",
        "                data += [1., 1.]\n",
        "                col  += [i, j]\n",
        "                row  += [l, l]\n",
        "                l += 1\n",
        "    return coo_matrix((data, (row, col))).tocsr()"
      ],
      "metadata": {
        "id": "80MG3-ZEvAc4"
      },
      "execution_count": null,
      "outputs": []
    },
    {
      "cell_type": "code",
      "source": [
        "from scipy.sparse import csr_matrix\n",
        "\n",
        "# get eigenvalues of the matrix and find the second minimum eigenvalue\n",
        "# the smalles eigenvalue is zero and its eigenvector is 1\n",
        "def get_eigenvalues(A):\n",
        "    A = csr_matrix(A).toarray()\n",
        "    eigenvalue, eigenvector = eig(A)\n",
        "    min_eig = min(eigenvalue)\n",
        "    return eigenvalue"
      ],
      "metadata": {
        "id": "2blladenn68c"
      },
      "execution_count": null,
      "outputs": []
    },
    {
      "cell_type": "code",
      "source": [
        "# based on the nonzero minimum eigenvalue (lambda 2), get the following eigenvector (X2) -> (Fiedler vector)\n",
        "# we can do clustering based on the values of the eigenvector (fiedler vector). \n",
        "# if the value is greater than zero, the value will be in the aggregate A_1. \n",
        "# otherwise (if the value is less than or equal to zero, the value will be in the aggregate A_2)\n",
        "def get_fiedler(L):\n",
        "    eigenvector = eigs(L,k=3,which='LM')[1] # fiedler vector\n",
        "    return eigenvector"
      ],
      "metadata": {
        "id": "iyY7WUdtzPfr"
      },
      "execution_count": null,
      "outputs": []
    },
    {
      "cell_type": "code",
      "source": [
        "def mtx_for_visualization(B):\n",
        "    df = pd.DataFrame(columns = ['rows', 'cols'])\n",
        "    n = B.shape[0]\n",
        "    for i in range (n):\n",
        "      for j in range (i + 1, n):\n",
        "        if B[i,j] == 1:\n",
        "          new_row = {'rows':i, 'cols':j}\n",
        "          # append row to the dataframe\n",
        "          df = df.append(new_row, ignore_index = True)\n",
        "    edge_vertex = df.to_numpy() # change from df to ndarray\n",
        "    return edge_vertex\n",
        "\n",
        "# visualization the spectral clustering\n",
        "def spectral_clustering_visualization(E, eigenvector):\n",
        "  rows = len(eigenvector)\n",
        "  columns = len(eigenvector[0])\n",
        "  df = pd.DataFrame(E, columns = ['rows', 'cols'])\n",
        "  df.insert(2, \"cluster_labels\", [0 for i in range (len(df))], True) # initialize the column cluster_labels to zero\n",
        "  for i in range (rows):\n",
        "    for j in range (columns):\n",
        "      if eigenvector[i, j] > 0:\n",
        "          df.cluster_labels[i,j] = 1\n",
        "  \n",
        "  sns.lmplot('rows', 'cols', data=df, fit_reg=False,  # x-axis, y-axis, data, no line\n",
        "           scatter_kws={\"s\": 50}, # marker size\n",
        "           hue=\"cluster_labels\") # color"
      ],
      "metadata": {
        "id": "wu7mDvEL0bxX"
      },
      "execution_count": null,
      "outputs": []
    },
    {
      "cell_type": "markdown",
      "source": [
        "# Test Spectral Clustering"
      ],
      "metadata": {
        "id": "bksLlk4uEiyI"
      }
    },
    {
      "cell_type": "code",
      "source": [
        "# Test the solution with Karate Club Graph\n",
        "karate = read_data(\"karate_club_graph-1.txt\")\n",
        "\n",
        "# change the sparse matrix to adjacency matrix\n",
        "adj = make_adj_mtx(karate)\n",
        "\n",
        "# get the diagonal matrix\n",
        "diag = make_diag_mtx(karate)\n",
        "\n",
        "# get the laplacian matrix\n",
        "laplacian_matrix = make_Laplacian(diag, adj)\n",
        "\n",
        "# get the edge-vertex matrix using the adjacency matrix\n",
        "E = make_edge_vertex_mtx(adj)\n",
        "\n",
        "# get the vertex-edge matrix\n",
        "E_transpose = np.transpose(E) \n",
        "\n",
        "# form the edge-edge matrix\n",
        "A_E = E @ E_transpose \n",
        "\n",
        "# get the second smallest eigenvalue\n",
        "eigenvalue = get_eigenvalues(laplacian_matrix)\n",
        "\n",
        "# get the corresponding eigenvector\n",
        "fiedler = get_fiedler(laplacian_matrix)\n",
        "\n",
        "print(\"The second smallest eigenvalue is: \\n\", eigenvalue ,\n",
        "      \"\\nAnd its eigenvector (fiedler vector) is: \\n\", fiedler)\n",
        "\n",
        "# visualize the result\n",
        "B = mtx_for_visualization(adj)\n",
        "spectral_clustering_visualization(B, fiedler)"
      ],
      "metadata": {
        "colab": {
          "base_uri": "https://localhost:8080/",
          "height": 1000
        },
        "id": "8CPCx_o1_G_y",
        "outputId": "7990be65-e2e6-4399-98e2-48a020aa14a8"
      },
      "execution_count": null,
      "outputs": [
        {
          "output_type": "stream",
          "name": "stdout",
          "text": [
            "The second smallest eigenvalue is: \n",
            " [ 1.81366960e+01  1.70551712e+01  1.33061223e+01  1.09210675e+01\n",
            "  9.77724095e+00  6.99619703e+00  6.51554463e+00  6.33159222e+00\n",
            " -3.03715976e-15  5.37859508e+00  4.68525227e-01  4.58079267e+00\n",
            "  4.48000767e+00  4.27587682e+00  9.09247664e-01  1.12501072e+00\n",
            "  1.25940411e+00  1.59928308e+00  1.76189862e+00  1.82605521e+00\n",
            "  1.95505045e+00  2.48709173e+00  2.74915718e+00  3.01396297e+00\n",
            "  3.24206748e+00  3.47218740e+00  5.61803399e+00  3.37615409e+00\n",
            "  2.00000000e+00  3.38196601e+00  2.00000000e+00  2.00000000e+00\n",
            "  2.00000000e+00  2.00000000e+00] \n",
            "And its eigenvector (fiedler vector) is: \n",
            " [[-1.93749031e-01+0.j  9.40932167e-01+0.j -9.47825261e-02+0.j]\n",
            " [-5.22422164e-03+0.j -6.58647640e-02+0.j  9.91845054e-02+0.j]\n",
            " [-2.91860881e-02+0.j -1.15069117e-01+0.j -3.14797911e-01+0.j]\n",
            " [ 9.29125708e-03+0.j -5.47579565e-02+0.j  3.37349664e-02+0.j]\n",
            " [ 1.12534185e-02+0.j -5.82879065e-02+0.j  7.62221479e-03+0.j]\n",
            " [ 1.21560376e-02+0.j -6.33977563e-02+0.j  8.60483345e-03+0.j]\n",
            " [ 1.21560376e-02+0.j -6.33977563e-02+0.j  8.60483345e-03+0.j]\n",
            " [ 1.54822657e-02+0.j -5.40199986e-02+0.j  2.97289199e-02+0.j]\n",
            " [ 7.99335811e-02+0.j -5.95376583e-02+0.j -4.96647489e-02+0.j]\n",
            " [ 6.02766207e-02+0.j  2.10499460e-02+0.j  2.45280925e-02+0.j]\n",
            " [ 1.12534185e-02+0.j -5.82879065e-02+0.j  7.62221479e-03+0.j]\n",
            " [ 1.13060902e-02+0.j -5.86061747e-02+0.j  7.70206274e-03+0.j]\n",
            " [ 1.14309506e-02+0.j -5.88617824e-02+0.j  5.39951348e-03+0.j]\n",
            " [ 8.84809621e-02+0.j -4.17579226e-02+0.j  2.87957074e-02+0.j]\n",
            " [ 5.48070146e-02+0.j  8.46872189e-03+0.j -8.19944402e-02+0.j]\n",
            " [ 5.48070146e-02+0.j  8.46872189e-03+0.j -8.19944402e-02+0.j]\n",
            " [-1.50663278e-03+0.j  8.42205718e-03+0.j -1.52215467e-03+0.j]\n",
            " [ 1.23304828e-02+0.j -5.81240420e-02+0.j -3.89344744e-04+0.j]\n",
            " [ 5.48070146e-02+0.j  8.46872189e-03+0.j -8.19944402e-02+0.j]\n",
            " [ 7.54756962e-02+0.j -4.78988103e-02+0.j -4.06382489e-03+0.j]\n",
            " [ 5.48070146e-02+0.j  8.46872189e-03+0.j -8.19944402e-02+0.j]\n",
            " [ 1.23304828e-02+0.j -5.81240420e-02+0.j -3.89344744e-04+0.j]\n",
            " [ 5.48070146e-02+0.j  8.46872189e-03+0.j -8.19944402e-02+0.j]\n",
            " [ 5.88826447e-02+0.j  7.56388201e-03+0.j -1.08513837e-01+0.j]\n",
            " [-9.37420446e-03+0.j  3.46763969e-03+0.j  5.85061834e-03+0.j]\n",
            " [-8.92010010e-03+0.j  4.68293122e-03+0.j  2.18986678e-02+0.j]\n",
            " [ 5.50906310e-02+0.j  1.28620199e-02+0.j  4.50725796e-03+0.j]\n",
            " [ 6.53021798e-02+0.j  2.34297211e-02+0.j  4.08312743e-02+0.j]\n",
            " [ 5.86094285e-02+0.j  2.80154156e-02+0.j  3.88453321e-02+0.j]\n",
            " [ 5.44986507e-02+0.j  8.20151297e-03+0.j -8.84399069e-02+0.j]\n",
            " [ 5.72760971e-02+0.j  1.93716709e-02+0.j -1.04937255e-01+0.j]\n",
            " [ 8.55124031e-02+0.j -7.68509217e-02+0.j -1.23027130e-01+0.j]\n",
            " [ 5.90752833e-02+0.j  7.43433668e-02+0.j  8.89558873e-01+0.j]\n",
            " [-9.43479415e-01+0.j -2.01841425e-01+0.j  3.74802971e-02+0.j]]\n"
          ]
        },
        {
          "output_type": "stream",
          "name": "stderr",
          "text": [
            "/usr/local/lib/python3.7/dist-packages/ipykernel_launcher.py:22: SettingWithCopyWarning: \n",
            "A value is trying to be set on a copy of a slice from a DataFrame\n",
            "\n",
            "See the caveats in the documentation: https://pandas.pydata.org/pandas-docs/stable/user_guide/indexing.html#returning-a-view-versus-a-copy\n",
            "/usr/local/lib/python3.7/dist-packages/pandas/core/indexing.py:1732: SettingWithCopyWarning: \n",
            "A value is trying to be set on a copy of a slice from a DataFrame\n",
            "\n",
            "See the caveats in the documentation: https://pandas.pydata.org/pandas-docs/stable/user_guide/indexing.html#returning-a-view-versus-a-copy\n",
            "  self._setitem_single_block(indexer, value, name)\n",
            "/usr/local/lib/python3.7/dist-packages/seaborn/_decorators.py:43: FutureWarning: Pass the following variables as keyword args: x, y. From version 0.12, the only valid positional argument will be `data`, and passing other arguments without an explicit keyword will result in an error or misinterpretation.\n",
            "  FutureWarning\n"
          ]
        },
        {
          "output_type": "display_data",
          "data": {
            "image/png": "[encoded data removed]",
            "text/plain": [
              "<Figure size 436.625x360 with 1 Axes>"
            ]
          },
          "metadata": {
            "needs_background": "light"
          }
        }
      ]
    },
    {
      "cell_type": "code",
      "source": [
        "# Test the solution with Tutee Graph\n",
        "tutee = read_data(\"tutee_graph-1.txt\")\n",
        "\n",
        "# change the sparse matrix to adjacency matrix\n",
        "adj = make_adj_mtx(tutee)\n",
        "\n",
        "# get the diagonal matrix\n",
        "diag = make_diag_mtx(tutee)\n",
        "\n",
        "# get the laplacian matrix\n",
        "laplacian_matrix = make_Laplacian(diag, adj)\n",
        "\n",
        "# get the edge-vertex matrix using the adjacency matrix\n",
        "E = make_edge_vertex_mtx(adj)\n",
        "\n",
        "# get the vertex-edge matrix\n",
        "E_transpose = np.transpose(E) \n",
        "\n",
        "# form the edge-edge matrix\n",
        "A_E = E @ E_transpose \n",
        "\n",
        "# get the second smallest eigenvalue\n",
        "eigenvalue = get_eigenvalues(laplacian_matrix)\n",
        "\n",
        "# get the corresponding eigenvector\n",
        "fiedler = get_fiedler(laplacian_matrix)\n",
        "\n",
        "print(\"The second smallest eigenvalue is: \\n\", eigenvalue ,\n",
        "      \"\\nAnd its eigenvector (fiedler vector) is: \\n\", fiedler)\n",
        "\n",
        "# visualize the result\n",
        "B = mtx_for_visualization(adj)\n",
        "spectral_clustering_visualization(B, fiedler)"
      ],
      "metadata": {
        "id": "-PDd-aayJDwd",
        "colab": {
          "base_uri": "https://localhost:8080/",
          "height": 1000
        },
        "outputId": "4e000b02-e3a2-4e19-aa85-a8c44261faf0"
      },
      "execution_count": null,
      "outputs": [
        {
          "output_type": "stream",
          "name": "stdout",
          "text": [
            "The second smallest eigenvalue is: \n",
            " [0.         5.6825447  0.51458628 0.91842497 1.19467204 4.60051893\n",
            " 4.73186847 4.15309328 5.38426389 5.14292738 1.75256574 0.13646258\n",
            " 0.13646258 2.90580942 3.61833597 5.518396   5.518396   5.3831767\n",
            " 5.3831767  5.20210697 5.20210697 5.09446244 5.09446244 2.27346656\n",
            " 2.4902596  2.63666278 0.75392339 0.75392339 0.98905895 0.98905895\n",
            " 4.04048527 1.48364039 1.48364039 4.04048527 3.6215454  3.6215454\n",
            " 3.14205998 3.14205998 2.04486237 2.04486237 2.30538101 2.72665405\n",
            " 2.30538101 2.72665405 2.5577845  2.5577845 ] \n",
            "And its eigenvector (fiedler vector) is: \n",
            " [[ 3.25026425e-01+0.j  2.67713047e-15+0.j -8.60961668e-16+0.j]\n",
            " [-2.90632637e-01+0.j  1.36498397e-01+0.j -6.46252103e-02+0.j]\n",
            " [-2.90632637e-01+0.j -1.24214378e-01+0.j -8.58975769e-02+0.j]\n",
            " [-2.90632637e-01+0.j -1.22840192e-02+0.j  1.50522787e-01+0.j]\n",
            " [ 2.19333797e-01+0.j -1.20880917e-01+0.j  1.18027038e-01+0.j]\n",
            " [-1.17492009e-01+0.j  5.69340235e-02+0.j -1.54584754e-01+0.j]\n",
            " [ 7.29364728e-02+0.j  8.52013240e-04+0.j  2.40988038e-01+0.j]\n",
            " [-6.51470939e-02+0.j  1.05977949e-02+0.j -2.79754434e-01+0.j]\n",
            " [ 1.14839764e-01+0.j  8.70656619e-02+0.j  3.16917444e-01+0.j]\n",
            " [-1.60254511e-01+0.j -1.30897374e-01+0.j -2.86767315e-01+0.j]\n",
            " [ 2.35274818e-01+0.j  1.50167798e-01+0.j  1.70653327e-01+0.j]\n",
            " [ 2.19333797e-01+0.j  1.62653194e-01+0.j  4.56707874e-02+0.j]\n",
            " [-1.17492009e-01+0.j -1.62340545e-01+0.j  2.79882120e-02+0.j]\n",
            " [ 7.29364728e-02+0.j  2.08275768e-01+0.j -1.21235229e-01+0.j]\n",
            " [-1.30162456e-02+0.j -1.14607119e-01+0.j  1.46626964e-01+0.j]\n",
            " [-6.51470939e-02+0.j -2.47573197e-01+0.j  1.30703140e-01+0.j]\n",
            " [ 1.14839764e-01+0.j  2.30926935e-01+0.j -2.33864196e-01+0.j]\n",
            " [-1.60254511e-01+0.j -1.82900910e-01+0.j  2.56748089e-01+0.j]\n",
            " [ 2.35274818e-01+0.j  7.27083018e-02+0.j -2.15378160e-01+0.j]\n",
            " [ 2.19333797e-01+0.j -4.17722771e-02+0.j -1.63697825e-01+0.j]\n",
            " [-1.17492009e-01+0.j  1.05406522e-01+0.j  1.26596542e-01+0.j]\n",
            " [ 7.29364728e-02+0.j -2.09127781e-01+0.j -1.19752809e-01+0.j]\n",
            " [-1.30162456e-02+0.j  1.84284644e-01+0.j  2.59371597e-02+0.j]\n",
            " [-6.51470939e-02+0.j  2.36975402e-01+0.j  1.49051293e-01+0.j]\n",
            " [ 1.14839764e-01+0.j -3.17992597e-01+0.j -8.30532481e-02+0.j]\n",
            " [-1.60254511e-01+0.j  3.13798284e-01+0.j  3.00192260e-02+0.j]\n",
            " [ 2.35274818e-01+0.j -2.22876099e-01+0.j  4.47248331e-02+0.j]\n",
            " [-1.30162456e-02+0.j -6.96775251e-02+0.j -1.72564124e-01+0.j]\n",
            " [ 2.71272816e-02+0.j -6.23518147e-02+0.j  4.45454669e-02+0.j]\n",
            " [ 2.29072954e-02+0.j -2.33535134e-02+0.j  3.02905495e-02+0.j]\n",
            " [ 2.89148834e-02+0.j  6.42311860e-02+0.j  3.37556884e-02+0.j]\n",
            " [ 7.97753054e-02+0.j -2.49399645e-01+0.j -3.72718837e-02+0.j]\n",
            " [-8.26611953e-02+0.j  2.50057599e-01+0.j  3.00904484e-02+0.j]\n",
            " [-1.80248068e-01+0.j  1.10993597e-01+0.j -7.80288563e-02+0.j]\n",
            " [ 2.71272816e-02+0.j  6.97525478e-02+0.j  3.17249037e-02+0.j]\n",
            " [ 2.29072954e-02+0.j  3.79088179e-02+0.j  5.07904072e-03+0.j]\n",
            " [ 2.89148834e-02+0.j -2.88141777e-03+0.j -7.25041515e-02+0.j]\n",
            " [ 7.97753054e-02+0.j  9.24179626e-02+0.j  2.34622888e-01+0.j]\n",
            " [-8.26611953e-02+0.j -9.89662359e-02+0.j -2.31601875e-01+0.j]\n",
            " [-1.80248068e-01+0.j -1.23070230e-01+0.j -5.71077633e-02+0.j]\n",
            " [ 2.71272816e-02+0.j -7.40073316e-03+0.j -7.62703706e-02+0.j]\n",
            " [ 2.29072954e-02+0.j -1.45553045e-02+0.j -3.53695902e-02+0.j]\n",
            " [ 2.89148834e-02+0.j -6.13497682e-02+0.j  3.87484632e-02+0.j]\n",
            " [ 7.97753054e-02+0.j  1.56981683e-01+0.j -1.97351004e-01+0.j]\n",
            " [-8.26611953e-02+0.j -1.51091363e-01+0.j  2.01511427e-01+0.j]\n",
            " [-1.80248068e-01+0.j  1.20766327e-02+0.j  1.35136620e-01+0.j]]\n"
          ]
        },
        {
          "output_type": "stream",
          "name": "stderr",
          "text": [
            "/usr/local/lib/python3.7/dist-packages/ipykernel_launcher.py:22: SettingWithCopyWarning: \n",
            "A value is trying to be set on a copy of a slice from a DataFrame\n",
            "\n",
            "See the caveats in the documentation: https://pandas.pydata.org/pandas-docs/stable/user_guide/indexing.html#returning-a-view-versus-a-copy\n",
            "/usr/local/lib/python3.7/dist-packages/pandas/core/indexing.py:1732: SettingWithCopyWarning: \n",
            "A value is trying to be set on a copy of a slice from a DataFrame\n",
            "\n",
            "See the caveats in the documentation: https://pandas.pydata.org/pandas-docs/stable/user_guide/indexing.html#returning-a-view-versus-a-copy\n",
            "  self._setitem_single_block(indexer, value, name)\n",
            "/usr/local/lib/python3.7/dist-packages/seaborn/_decorators.py:43: FutureWarning: Pass the following variables as keyword args: x, y. From version 0.12, the only valid positional argument will be `data`, and passing other arguments without an explicit keyword will result in an error or misinterpretation.\n",
            "  FutureWarning\n"
          ]
        },
        {
          "output_type": "display_data",
          "data": {
            "image/png": "[encoded data removed]",
            "text/plain": [
              "<Figure size 436.625x360 with 1 Axes>"
            ]
          },
          "metadata": {
            "needs_background": "light"
          }
        }
      ]
    },
    {
      "cell_type": "markdown",
      "source": [
        "# K-mean Clustering"
      ],
      "metadata": {
        "id": "8Ed5iC-E1vhX"
      }
    },
    {
      "cell_type": "code",
      "source": [
        "def kmeans_clustering(matrix):\n",
        "  # create data points\n",
        "  df = pd.DataFrame(columns = ['rows', 'cols'])\n",
        "  n = matrix.shape[0]\n",
        "\n",
        "  for i in range (n):\n",
        "    for j in range (i + 1, n):\n",
        "      if matrix[i,j] == 1:\n",
        "        new_row = {'rows':i, 'cols':j}\n",
        "        # append row to the dataframe\n",
        "        df = df.append(new_row, ignore_index = True)\n",
        "\n",
        "  data_points = df.values \n",
        "\n",
        "  kmeans = KMeans(n_clusters = 3).fit(data_points)\n",
        "\n",
        "  # cluster id for each data point\n",
        "  kmeans.labels_\n",
        "\n",
        "  # this is final centroids position\n",
        "  kmeans.cluster_centers_\n",
        "\n",
        "  df['cluster_id'] = kmeans.labels_\n",
        "\n",
        "  # visualization\n",
        "  sns.lmplot('rows', 'cols', data=df, fit_reg=False,  # x-axis, y-axis, data, no line\n",
        "            scatter_kws={\"s\": 50}, # marker size\n",
        "            hue=\"cluster_id\") # color\n",
        "\n",
        "  # title\n",
        "  plt.title('After K-mean Clustering')"
      ],
      "metadata": {
        "id": "3TnH-bDrkHaI"
      },
      "execution_count": null,
      "outputs": []
    },
    {
      "cell_type": "markdown",
      "source": [
        "# Test K-means Clustering"
      ],
      "metadata": {
        "id": "6tIUOq7kGI6l"
      }
    },
    {
      "cell_type": "code",
      "source": [
        "# Test the solution with Karate Club Graph\n",
        "karate = read_data(\"karate_club_graph-1.txt\")\n",
        "kmeans_clustering(karate)"
      ],
      "metadata": {
        "colab": {
          "base_uri": "https://localhost:8080/",
          "height": 440
        },
        "id": "QJJmh4IgGH67",
        "outputId": "a3039fc4-b178-4e02-da57-02f6dd24c56a"
      },
      "execution_count": null,
      "outputs": [
        {
          "output_type": "stream",
          "name": "stderr",
          "text": [
            "/usr/local/lib/python3.7/dist-packages/seaborn/_decorators.py:43: FutureWarning: Pass the following variables as keyword args: x, y. From version 0.12, the only valid positional argument will be `data`, and passing other arguments without an explicit keyword will result in an error or misinterpretation.\n",
            "  FutureWarning\n"
          ]
        },
        {
          "output_type": "display_data",
          "data": {
            "image/png": "[encoded data removed]",
            "text/plain": [
              "<Figure size 416.375x360 with 1 Axes>"
            ]
          },
          "metadata": {
            "needs_background": "light"
          }
        }
      ]
    },
    {
      "cell_type": "code",
      "source": [
        "# Test the solution with Tutee Graph\n",
        "tutee = read_data(\"tutee_graph-1.txt\")\n",
        "kmeans_clustering(tutee)"
      ],
      "metadata": {
        "colab": {
          "base_uri": "https://localhost:8080/",
          "height": 440
        },
        "id": "Qhakbx1fGhZb",
        "outputId": "f56731ff-a266-48d8-974c-662028e866c1"
      },
      "execution_count": null,
      "outputs": [
        {
          "output_type": "stream",
          "name": "stderr",
          "text": [
            "/usr/local/lib/python3.7/dist-packages/seaborn/_decorators.py:43: FutureWarning: Pass the following variables as keyword args: x, y. From version 0.12, the only valid positional argument will be `data`, and passing other arguments without an explicit keyword will result in an error or misinterpretation.\n",
            "  FutureWarning\n"
          ]
        },
        {
          "output_type": "display_data",
          "data": {
            "image/png": "[encoded data removed]",
            "text/plain": [
              "<Figure size 416.375x360 with 1 Axes>"
            ]
          },
          "metadata": {
            "needs_background": "light"
          }
        }
      ]
    }
  ]
}